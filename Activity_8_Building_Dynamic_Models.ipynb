{
 "cells": [
  {
   "cell_type": "markdown",
   "metadata": {},
   "source": [
    "# Activity 8: Re-training a model dynamically\n",
    "In this activity, we re-train our model every time new data is available.\n",
    "\n",
    "First, we start by importing `cryptonic`. Cryptonic is a simple software application developed for this course that implements all the steps up to this section using Python classes and modules. Consider Cryptonic a template on how you could develop similar applications."
   ]
  },
  {
   "cell_type": "code",
   "execution_count": 3,
   "metadata": {},
   "outputs": [
    {
     "name": "stderr",
     "output_type": "stream",
     "text": [
      "Using TensorFlow backend.\n"
     ]
    },
    {
     "data": {
      "application/javascript": [
       "IPython.notebook.set_autosave_interval(5000)"
      ]
     },
     "metadata": {},
     "output_type": "display_data"
    },
    {
     "name": "stdout",
     "output_type": "stream",
     "text": [
      "Autosaving every 5 seconds\n"
     ]
    }
   ],
   "source": [
    "from cryptonic import Model\n",
    "from cryptonic import CoinMarketCap\n",
    "from cryptonic.models import normalizations\n",
    "\n",
    "from tqdm import tqdm_notebook\n",
    "\n",
    "%autosave 5\n",
    "%matplotlib inline"
   ]
  },
  {
   "cell_type": "markdown",
   "metadata": {},
   "source": [
    "## Fetching Real-time Data\n",
    "Throughout this project we have been using data originally provided by [CoinMarketCat](https://coinmarketcap.com/). We have created an interface for collecting both real-time and historical data as as part of `cryptonic`: the class `CoinMarketCap()`."
   ]
  },
  {
   "cell_type": "code",
   "execution_count": 4,
   "metadata": {},
   "outputs": [
    {
     "name": "stdout",
     "output_type": "stream",
     "text": [
      "\n",
      "\n",
      "        Crypto-currency data comes from the website CoinMarketCap.\n",
      "        CoinMarketCap is can be accessed at: https://coinmarketcap.com/\n",
      "\n",
      "        The permission to use the data is available on their FAQ\n",
      "\n",
      "            https://coinmarketcap.com/faq/\n",
      "\n",
      "        and reads:\n",
      "\n",
      "            \"Q: Am I allowed to use content (screenshots, data, graphs, etc.) \n",
      "            for one of my personal projects and/or commercial use?\n",
      "\n",
      "            R: Absolutely! Feel free to use any content as you see fit. \n",
      "            We kindly ask that you cite us as a source.\"\n",
      "        \n",
      "        \n"
     ]
    }
   ],
   "source": [
    "print(CoinMarketCap())"
   ]
  },
  {
   "cell_type": "markdown",
   "metadata": {},
   "source": [
    "Our model is designed to work with daily data. Let's go ahead and collect historic daily data from CoinMarketCap (this is the same data used previously)."
   ]
  },
  {
   "cell_type": "code",
   "execution_count": 5,
   "metadata": {},
   "outputs": [],
   "source": [
    "from datetime import datetime\n",
    "import pandas as pd\n",
    "historic_data = pd.read_csv('bitcoin_cash_price.csv')\n",
    "historic_data.columns=historic_data.columns.str.lower()\n",
    "historic_data['date'] = historic_data['date'].apply(lambda x: datetime.strptime(x, '%b %d, %Y').strftime('%Y-%m-%d'))"
   ]
  },
  {
   "cell_type": "markdown",
   "metadata": {},
   "source": [
    "The data contains practically the same variables from our earlier dataset. However, much of the data comes from an earlier period. Recent Bitcoin prices have gained a lot of volatility if compared to the prices of a few years ago. Before using this data in our model, let's make sure to filter it to dates after January 1, 2017."
   ]
  },
  {
   "cell_type": "code",
   "execution_count": 21,
   "metadata": {
    "eid": "0ff8fe",
    "scrolled": true
   },
   "outputs": [
    {
     "data": {
      "text/html": [
       "<div>\n",
       "<style scoped>\n",
       "    .dataframe tbody tr th:only-of-type {\n",
       "        vertical-align: middle;\n",
       "    }\n",
       "\n",
       "    .dataframe tbody tr th {\n",
       "        vertical-align: top;\n",
       "    }\n",
       "\n",
       "    .dataframe thead th {\n",
       "        text-align: right;\n",
       "    }\n",
       "</style>\n",
       "<table border=\"1\" class=\"dataframe\">\n",
       "  <thead>\n",
       "    <tr style=\"text-align: right;\">\n",
       "      <th></th>\n",
       "      <th>date</th>\n",
       "      <th>open</th>\n",
       "      <th>high</th>\n",
       "      <th>low</th>\n",
       "      <th>close</th>\n",
       "      <th>volume</th>\n",
       "      <th>market cap</th>\n",
       "    </tr>\n",
       "  </thead>\n",
       "  <tbody>\n",
       "    <tr>\n",
       "      <th>208</th>\n",
       "      <td>2017-07-27</td>\n",
       "      <td>417.10</td>\n",
       "      <td>460.97</td>\n",
       "      <td>367.78</td>\n",
       "      <td>385.48</td>\n",
       "      <td>533,207</td>\n",
       "      <td>-</td>\n",
       "    </tr>\n",
       "    <tr>\n",
       "      <th>209</th>\n",
       "      <td>2017-07-26</td>\n",
       "      <td>407.08</td>\n",
       "      <td>486.16</td>\n",
       "      <td>321.79</td>\n",
       "      <td>365.82</td>\n",
       "      <td>1,784,640</td>\n",
       "      <td>-</td>\n",
       "    </tr>\n",
       "    <tr>\n",
       "      <th>210</th>\n",
       "      <td>2017-07-25</td>\n",
       "      <td>441.35</td>\n",
       "      <td>541.66</td>\n",
       "      <td>338.09</td>\n",
       "      <td>406.90</td>\n",
       "      <td>524,908</td>\n",
       "      <td>-</td>\n",
       "    </tr>\n",
       "    <tr>\n",
       "      <th>211</th>\n",
       "      <td>2017-07-24</td>\n",
       "      <td>412.58</td>\n",
       "      <td>578.89</td>\n",
       "      <td>409.21</td>\n",
       "      <td>440.70</td>\n",
       "      <td>190,952</td>\n",
       "      <td>-</td>\n",
       "    </tr>\n",
       "    <tr>\n",
       "      <th>212</th>\n",
       "      <td>2017-07-23</td>\n",
       "      <td>555.89</td>\n",
       "      <td>578.97</td>\n",
       "      <td>411.78</td>\n",
       "      <td>413.06</td>\n",
       "      <td>85,013</td>\n",
       "      <td>-</td>\n",
       "    </tr>\n",
       "  </tbody>\n",
       "</table>\n",
       "</div>"
      ],
      "text/plain": [
       "           date    open    high     low   close     volume market cap\n",
       "208  2017-07-27  417.10  460.97  367.78  385.48    533,207          -\n",
       "209  2017-07-26  407.08  486.16  321.79  365.82  1,784,640          -\n",
       "210  2017-07-25  441.35  541.66  338.09  406.90    524,908          -\n",
       "211  2017-07-24  412.58  578.89  409.21  440.70    190,952          -\n",
       "212  2017-07-23  555.89  578.97  411.78  413.06     85,013          -"
      ]
     },
     "execution_count": 21,
     "metadata": {},
     "output_type": "execute_result"
    }
   ],
   "source": [
    "#\n",
    "#  Using the Pandas API, filter the dataframe\n",
    "#  for observations from 2017 only. \n",
    "# \n",
    "#  Hint: use the `date` variable.\n",
    "#\n",
    "model_data=historic_data[(historic_data['date'] > '2017-01-01') & (historic_data['date'] < '2018-01-07')]\n",
    "model_data.tail()"
   ]
  },
  {
   "cell_type": "markdown",
   "metadata": {},
   "source": [
    "## The `Model()` Class\n",
    "We have also created the class `Model()` which compiles all the code we have written so far. We will use that class to build, train, and evaluate our model."
   ]
  },
  {
   "cell_type": "code",
   "execution_count": 22,
   "metadata": {},
   "outputs": [],
   "source": [
    "M = Model(data=model_data,\n",
    "          variable='close',\n",
    "          predicted_period_size=7)"
   ]
  },
  {
   "cell_type": "code",
   "execution_count": 23,
   "metadata": {},
   "outputs": [
    {
     "data": {
      "text/plain": [
       "<keras.models.Sequential at 0x19ed69228c8>"
      ]
     },
     "execution_count": 23,
     "metadata": {},
     "output_type": "execute_result"
    }
   ],
   "source": [
    "M.build()"
   ]
  },
  {
   "cell_type": "code",
   "execution_count": 24,
   "metadata": {},
   "outputs": [
    {
     "name": "stdout",
     "output_type": "stream",
     "text": [
      "Epoch 1/100\n",
      "1/1 [==============================] - 1s 1s/step - loss: 0.0109\n",
      "Epoch 2/100\n",
      "1/1 [==============================] - 0s 20ms/step - loss: 0.0093\n",
      "Epoch 3/100\n",
      "1/1 [==============================] - 0s 24ms/step - loss: 0.0083\n",
      "Epoch 4/100\n",
      "1/1 [==============================] - 0s 19ms/step - loss: 0.0076\n",
      "Epoch 5/100\n",
      "1/1 [==============================] - 0s 20ms/step - loss: 0.0070\n",
      "Epoch 6/100\n",
      "1/1 [==============================] - 0s 18ms/step - loss: 0.0064\n",
      "Epoch 7/100\n",
      "1/1 [==============================] - 0s 18ms/step - loss: 0.0060\n",
      "Epoch 8/100\n",
      "1/1 [==============================] - 0s 17ms/step - loss: 0.0056\n",
      "Epoch 9/100\n",
      "1/1 [==============================] - 0s 24ms/step - loss: 0.0052\n",
      "Epoch 10/100\n",
      "1/1 [==============================] - 0s 23ms/step - loss: 0.0048\n",
      "Epoch 11/100\n",
      "1/1 [==============================] - 0s 25ms/step - loss: 0.0045\n",
      "Epoch 12/100\n",
      "1/1 [==============================] - 0s 21ms/step - loss: 0.0042\n",
      "Epoch 13/100\n",
      "1/1 [==============================] - 0s 23ms/step - loss: 0.0039\n",
      "Epoch 14/100\n",
      "1/1 [==============================] - 0s 27ms/step - loss: 0.0037\n",
      "Epoch 15/100\n",
      "1/1 [==============================] - 0s 22ms/step - loss: 0.0034\n",
      "Epoch 16/100\n",
      "1/1 [==============================] - 0s 23ms/step - loss: 0.0032\n",
      "Epoch 17/100\n",
      "1/1 [==============================] - 0s 21ms/step - loss: 0.0030\n",
      "Epoch 18/100\n",
      "1/1 [==============================] - 0s 21ms/step - loss: 0.0028\n",
      "Epoch 19/100\n",
      "1/1 [==============================] - 0s 26ms/step - loss: 0.0026\n",
      "Epoch 20/100\n",
      "1/1 [==============================] - 0s 21ms/step - loss: 0.0025\n",
      "Epoch 21/100\n",
      "1/1 [==============================] - 0s 21ms/step - loss: 0.0023\n",
      "Epoch 22/100\n",
      "1/1 [==============================] - 0s 23ms/step - loss: 0.0022\n",
      "Epoch 23/100\n",
      "1/1 [==============================] - 0s 22ms/step - loss: 0.0020\n",
      "Epoch 24/100\n",
      "1/1 [==============================] - 0s 23ms/step - loss: 0.0019\n",
      "Epoch 25/100\n",
      "1/1 [==============================] - 0s 23ms/step - loss: 0.0018\n",
      "Epoch 26/100\n",
      "1/1 [==============================] - 0s 25ms/step - loss: 0.0017\n",
      "Epoch 27/100\n",
      "1/1 [==============================] - 0s 23ms/step - loss: 0.0016\n",
      "Epoch 28/100\n",
      "1/1 [==============================] - 0s 21ms/step - loss: 0.0015\n",
      "Epoch 29/100\n",
      "1/1 [==============================] - 0s 25ms/step - loss: 0.0014\n",
      "Epoch 30/100\n",
      "1/1 [==============================] - 0s 22ms/step - loss: 0.0013\n",
      "Epoch 31/100\n",
      "1/1 [==============================] - 0s 22ms/step - loss: 0.0012\n",
      "Epoch 32/100\n",
      "1/1 [==============================] - 0s 22ms/step - loss: 0.0012\n",
      "Epoch 33/100\n",
      "1/1 [==============================] - 0s 20ms/step - loss: 0.0011\n",
      "Epoch 34/100\n",
      "1/1 [==============================] - 0s 22ms/step - loss: 0.0010\n",
      "Epoch 35/100\n",
      "1/1 [==============================] - 0s 19ms/step - loss: 9.8233e-04\n",
      "Epoch 36/100\n",
      "1/1 [==============================] - 0s 17ms/step - loss: 9.2869e-04\n",
      "Epoch 37/100\n",
      "1/1 [==============================] - 0s 18ms/step - loss: 8.7833e-04\n",
      "Epoch 38/100\n",
      "1/1 [==============================] - 0s 23ms/step - loss: 8.3095e-04\n",
      "Epoch 39/100\n",
      "1/1 [==============================] - 0s 17ms/step - loss: 7.8627e-04\n",
      "Epoch 40/100\n",
      "1/1 [==============================] - 0s 16ms/step - loss: 7.4403e-04\n",
      "Epoch 41/100\n",
      "1/1 [==============================] - 0s 17ms/step - loss: 7.0400e-04\n",
      "Epoch 42/100\n",
      "1/1 [==============================] - 0s 14ms/step - loss: 6.6600e-04\n",
      "Epoch 43/100\n",
      "1/1 [==============================] - 0s 12ms/step - loss: 6.2983e-04\n",
      "Epoch 44/100\n",
      "1/1 [==============================] - 0s 10ms/step - loss: 5.9535e-04\n",
      "Epoch 45/100\n",
      "1/1 [==============================] - 0s 21ms/step - loss: 5.6242e-04\n",
      "Epoch 46/100\n",
      "1/1 [==============================] - 0s 19ms/step - loss: 5.3093e-04\n",
      "Epoch 47/100\n",
      "1/1 [==============================] - 0s 20ms/step - loss: 5.0078e-04\n",
      "Epoch 48/100\n",
      "1/1 [==============================] - 0s 22ms/step - loss: 4.7187e-04\n",
      "Epoch 49/100\n",
      "1/1 [==============================] - 0s 18ms/step - loss: 4.4413e-04\n",
      "Epoch 50/100\n",
      "1/1 [==============================] - 0s 22ms/step - loss: 4.1748e-04\n",
      "Epoch 51/100\n",
      "1/1 [==============================] - 0s 19ms/step - loss: 3.9191e-04\n",
      "Epoch 52/100\n",
      "1/1 [==============================] - 0s 17ms/step - loss: 3.6735e-04\n",
      "Epoch 53/100\n",
      "1/1 [==============================] - 0s 21ms/step - loss: 3.4375e-04\n",
      "Epoch 54/100\n",
      "1/1 [==============================] - 0s 18ms/step - loss: 3.2110e-04\n",
      "Epoch 55/100\n",
      "1/1 [==============================] - 0s 18ms/step - loss: 2.9936e-04\n",
      "Epoch 56/100\n",
      "1/1 [==============================] - 0s 17ms/step - loss: 2.7851e-04\n",
      "Epoch 57/100\n",
      "1/1 [==============================] - 0s 19ms/step - loss: 2.5855e-04\n",
      "Epoch 58/100\n",
      "1/1 [==============================] - 0s 19ms/step - loss: 2.3947e-04\n",
      "Epoch 59/100\n",
      "1/1 [==============================] - 0s 18ms/step - loss: 2.2135e-04\n",
      "Epoch 60/100\n",
      "1/1 [==============================] - 0s 23ms/step - loss: 2.0436e-04\n",
      "Epoch 61/100\n",
      "1/1 [==============================] - 0s 23ms/step - loss: 1.8901e-04\n",
      "Epoch 62/100\n",
      "1/1 [==============================] - 0s 22ms/step - loss: 1.7428e-04\n",
      "Epoch 63/100\n",
      "1/1 [==============================] - 0s 21ms/step - loss: 1.5966e-04\n",
      "Epoch 64/100\n",
      "1/1 [==============================] - 0s 20ms/step - loss: 1.4472e-04\n",
      "Epoch 65/100\n",
      "1/1 [==============================] - 0s 22ms/step - loss: 1.3100e-04\n",
      "Epoch 66/100\n",
      "1/1 [==============================] - 0s 21ms/step - loss: 1.1824e-04\n",
      "Epoch 67/100\n",
      "1/1 [==============================] - 0s 21ms/step - loss: 1.0647e-04\n",
      "Epoch 68/100\n",
      "1/1 [==============================] - 0s 20ms/step - loss: 9.5523e-05\n",
      "Epoch 69/100\n",
      "1/1 [==============================] - 0s 21ms/step - loss: 8.5374e-05\n",
      "Epoch 70/100\n",
      "1/1 [==============================] - 0s 22ms/step - loss: 7.5971e-05\n",
      "Epoch 71/100\n",
      "1/1 [==============================] - 0s 20ms/step - loss: 6.7321e-05\n",
      "Epoch 72/100\n",
      "1/1 [==============================] - 0s 21ms/step - loss: 5.9405e-05\n",
      "Epoch 73/100\n",
      "1/1 [==============================] - 0s 19ms/step - loss: 5.2274e-05\n",
      "Epoch 74/100\n",
      "1/1 [==============================] - 0s 20ms/step - loss: 4.5901e-05\n",
      "Epoch 75/100\n",
      "1/1 [==============================] - 0s 21ms/step - loss: 4.0374e-05\n",
      "Epoch 76/100\n",
      "1/1 [==============================] - 0s 21ms/step - loss: 3.5404e-05\n",
      "Epoch 77/100\n",
      "1/1 [==============================] - 0s 23ms/step - loss: 3.0986e-05\n",
      "Epoch 78/100\n",
      "1/1 [==============================] - 0s 20ms/step - loss: 2.6634e-05\n",
      "Epoch 79/100\n",
      "1/1 [==============================] - 0s 21ms/step - loss: 2.2751e-05\n",
      "Epoch 80/100\n",
      "1/1 [==============================] - 0s 22ms/step - loss: 1.9163e-05\n",
      "Epoch 81/100\n",
      "1/1 [==============================] - 0s 19ms/step - loss: 1.6231e-05\n",
      "Epoch 82/100\n",
      "1/1 [==============================] - 0s 21ms/step - loss: 1.3660e-05\n",
      "Epoch 83/100\n",
      "1/1 [==============================] - 0s 21ms/step - loss: 1.1599e-05\n",
      "Epoch 84/100\n",
      "1/1 [==============================] - 0s 20ms/step - loss: 9.7732e-06\n",
      "Epoch 85/100\n",
      "1/1 [==============================] - 0s 22ms/step - loss: 8.3881e-06\n",
      "Epoch 86/100\n",
      "1/1 [==============================] - 0s 21ms/step - loss: 7.2008e-06\n",
      "Epoch 87/100\n",
      "1/1 [==============================] - 0s 21ms/step - loss: 6.4236e-06\n",
      "Epoch 88/100\n",
      "1/1 [==============================] - 0s 19ms/step - loss: 5.7611e-06\n",
      "Epoch 89/100\n",
      "1/1 [==============================] - 0s 20ms/step - loss: 5.4275e-06\n",
      "Epoch 90/100\n",
      "1/1 [==============================] - 0s 22ms/step - loss: 5.0441e-06\n",
      "Epoch 91/100\n",
      "1/1 [==============================] - 0s 22ms/step - loss: 4.8786e-06\n",
      "Epoch 92/100\n",
      "1/1 [==============================] - 0s 21ms/step - loss: 4.5345e-06\n",
      "Epoch 93/100\n",
      "1/1 [==============================] - 0s 22ms/step - loss: 4.3825e-06\n",
      "Epoch 94/100\n",
      "1/1 [==============================] - 0s 20ms/step - loss: 4.0645e-06\n",
      "Epoch 95/100\n",
      "1/1 [==============================] - 0s 20ms/step - loss: 3.9675e-06\n",
      "Epoch 96/100\n",
      "1/1 [==============================] - 0s 22ms/step - loss: 3.7433e-06\n",
      "Epoch 97/100\n",
      "1/1 [==============================] - 0s 20ms/step - loss: 3.7324e-06\n",
      "Epoch 98/100\n",
      "1/1 [==============================] - 0s 22ms/step - loss: 3.5979e-06\n",
      "Epoch 99/100\n",
      "1/1 [==============================] - 0s 22ms/step - loss: 3.6601e-06\n",
      "Epoch 100/100\n",
      "1/1 [==============================] - 0s 21ms/step - loss: 3.6045e-06\n"
     ]
    },
    {
     "data": {
      "text/plain": [
       "<keras.callbacks.History at 0x19ee9c5ecc8>"
      ]
     },
     "execution_count": 24,
     "metadata": {},
     "output_type": "execute_result"
    }
   ],
   "source": [
    "M.train(epochs=100, verbose=1)"
   ]
  },
  {
   "cell_type": "markdown",
   "metadata": {},
   "source": [
    "We can now use the model for making predictions with the `predict()` method. The parameter `denormalized` will return values in the original scale of the data. In our case, US dollars."
   ]
  },
  {
   "cell_type": "code",
   "execution_count": 25,
   "metadata": {},
   "outputs": [
    {
     "data": {
      "text/plain": [
       "array([2789.5293, 2946.4119, 2784.9512, 2644.3496, 2941.4678, 3185.1318,\n",
       "       2987.2695], dtype=float32)"
      ]
     },
     "execution_count": 25,
     "metadata": {},
     "output_type": "execute_result"
    }
   ],
   "source": [
    "M.predict(denormalized=True)"
   ]
  },
  {
   "cell_type": "markdown",
   "metadata": {},
   "source": [
    "We now evaluate our model to inspect the statistics for the last epoch of training compared to a single test week."
   ]
  },
  {
   "cell_type": "code",
   "execution_count": 26,
   "metadata": {},
   "outputs": [
    {
     "data": {
      "text/plain": [
       "{'mse': 0.0, 'rmse': 196.34, 'mape': 5.42}"
      ]
     },
     "execution_count": 26,
     "metadata": {},
     "output_type": "execute_result"
    }
   ],
   "source": [
    "M.evaluate()"
   ]
  },
  {
   "cell_type": "markdown",
   "metadata": {},
   "source": [
    "Finally, we can now save the trained model on disk for later use."
   ]
  },
  {
   "cell_type": "code",
   "execution_count": 27,
   "metadata": {},
   "outputs": [],
   "source": [
    "M.save('bitcoin_model_prod_v0.h5')"
   ]
  },
  {
   "cell_type": "markdown",
   "metadata": {},
   "source": [
    "Our `Model()` class can also load a previously trained model when instantiated with the `path` parameter."
   ]
  },
  {
   "cell_type": "code",
   "execution_count": 28,
   "metadata": {},
   "outputs": [],
   "source": [
    "M = Model(path='bitcoin_model_prod_v0.h5',\n",
    "          data=model_data,\n",
    "          variable='close',\n",
    "          predicted_period_size=7)"
   ]
  },
  {
   "cell_type": "code",
   "execution_count": 29,
   "metadata": {},
   "outputs": [
    {
     "data": {
      "text/plain": [
       "array([2789.5293, 2946.4119, 2784.9512, 2644.3496, 2941.4678, 3185.1318,\n",
       "       2987.2695], dtype=float32)"
      ]
     },
     "execution_count": 29,
     "metadata": {},
     "output_type": "execute_result"
    }
   ],
   "source": [
    "M.predict(denormalized=True)"
   ]
  },
  {
   "cell_type": "markdown",
   "metadata": {},
   "source": [
    "## New Data, Re-train Old Model\n",
    "One strategy discussed earlier regards the re-training of our model with new data. In our case, our biggest concern is to shape data in a way that the model has been configured. As an example, we will configure our model to predict a week using 40 weeks. We will first train the model with the first 40 weeks of 2017, then continue to re-train it over the following weeks until we reach week 50."
   ]
  },
  {
   "cell_type": "markdown",
   "metadata": {},
   "source": [
    "First, let's build a model with the first set of data. Notice how we use `7*40 + 7` as the indexer. This is because we use 40 weeks for training and 1 week for testing. "
   ]
  },
  {
   "cell_type": "code",
   "execution_count": 44,
   "metadata": {},
   "outputs": [],
   "source": [
    "M1 = Model(data=model_data[0*7:7*21 + 7],\n",
    "          variable='close',\n",
    "          predicted_period_size=7)"
   ]
  },
  {
   "cell_type": "code",
   "execution_count": 45,
   "metadata": {},
   "outputs": [
    {
     "data": {
      "text/plain": [
       "<keras.models.Sequential at 0x19ef1741148>"
      ]
     },
     "execution_count": 45,
     "metadata": {},
     "output_type": "execute_result"
    }
   ],
   "source": [
    "M1.build()"
   ]
  },
  {
   "cell_type": "code",
   "execution_count": 46,
   "metadata": {},
   "outputs": [
    {
     "data": {
      "text/plain": [
       "<keras.callbacks.History at 0x19ef27f22c8>"
      ]
     },
     "execution_count": 46,
     "metadata": {},
     "output_type": "execute_result"
    }
   ],
   "source": [
    "M1.train()"
   ]
  },
  {
   "cell_type": "code",
   "execution_count": 48,
   "metadata": {
    "eid": "ffd950"
   },
   "outputs": [],
   "source": [
    "#\n",
    "#  Complete the range function and\n",
    "#  the model_data filtering parameters\n",
    "#  using an index to split the data in overlapping\n",
    "#  groups of 7 days. Then, re-train our model\n",
    "#  and collect the results.\n",
    "#\n",
    "#  The variables A, B, C, and D are placeholders.\n",
    "#\n",
    "results = []\n",
    "for i in range(0, 11):\n",
    "    M1.train(model_data[0*7+i:i+7*21+7])\n",
    "    results.append(M.evaluate())"
   ]
  },
  {
   "cell_type": "code",
   "execution_count": 49,
   "metadata": {},
   "outputs": [
    {
     "name": "stdout",
     "output_type": "stream",
     "text": [
      "Week 41: {'mse': 0.0, 'rmse': 196.34, 'mape': 5.42}\n",
      "Week 42: {'mse': 0.0, 'rmse': 196.34, 'mape': 5.42}\n",
      "Week 43: {'mse': 0.0, 'rmse': 196.34, 'mape': 5.42}\n",
      "Week 44: {'mse': 0.0, 'rmse': 196.34, 'mape': 5.42}\n",
      "Week 45: {'mse': 0.0, 'rmse': 196.34, 'mape': 5.42}\n",
      "Week 46: {'mse': 0.0, 'rmse': 196.34, 'mape': 5.42}\n",
      "Week 47: {'mse': 0.0, 'rmse': 196.34, 'mape': 5.42}\n",
      "Week 48: {'mse': 0.0, 'rmse': 196.34, 'mape': 5.42}\n",
      "Week 49: {'mse': 0.0, 'rmse': 196.34, 'mape': 5.42}\n",
      "Week 50: {'mse': 0.0, 'rmse': 196.34, 'mape': 5.42}\n",
      "Week 51: {'mse': 0.0, 'rmse': 196.34, 'mape': 5.42}\n"
     ]
    }
   ],
   "source": [
    "for i, result in enumerate(results):\n",
    "    print(f'Week {40+i+1}: {result}')"
   ]
  },
  {
   "cell_type": "code",
   "execution_count": 50,
   "metadata": {},
   "outputs": [
    {
     "data": {
      "text/plain": [
       "array([2924.0322, 2402.0068, 1869.2751, 2194.3906, 2488.8208, 2634.784 ,\n",
       "       2495.2947], dtype=float32)"
      ]
     },
     "execution_count": 50,
     "metadata": {},
     "output_type": "execute_result"
    }
   ],
   "source": [
    "M1.predict(denormalized=True)"
   ]
  },
  {
   "cell_type": "markdown",
   "metadata": {},
   "source": [
    "## New Data, New Model\n",
    "Another strategy is to create and train a new model evey time new data is available. This approach tends to reduce catastrophic forgetting, but training time increases as data increases. \n",
    "\n",
    "It's implementation is quite simple.\n",
    "\n",
    "Let's assume we have old data for 49 weeks of 2017 and after a week we now have new data. We represent this wtih the variables `old_data` and `new_data`. "
   ]
  },
  {
   "cell_type": "code",
   "execution_count": 51,
   "metadata": {},
   "outputs": [],
   "source": [
    "old_data = model_data[0*7:7*48 + 7]"
   ]
  },
  {
   "cell_type": "code",
   "execution_count": 52,
   "metadata": {},
   "outputs": [],
   "source": [
    "new_data = model_data[0*7:7*49 + 7]"
   ]
  },
  {
   "cell_type": "code",
   "execution_count": 53,
   "metadata": {},
   "outputs": [],
   "source": [
    "M2 = Model(data=old_data,\n",
    "          variable='close',\n",
    "          predicted_period_size=7)"
   ]
  },
  {
   "cell_type": "code",
   "execution_count": 54,
   "metadata": {},
   "outputs": [
    {
     "data": {
      "text/plain": [
       "<keras.callbacks.History at 0x19ef4a33a88>"
      ]
     },
     "execution_count": 54,
     "metadata": {},
     "output_type": "execute_result"
    }
   ],
   "source": [
    "M2.build()\n",
    "M2.train()"
   ]
  },
  {
   "cell_type": "code",
   "execution_count": 55,
   "metadata": {},
   "outputs": [
    {
     "data": {
      "text/plain": [
       "array([2778.094 , 2948.135 , 2786.0022, 2656.8098, 2947.5115, 3187.037 ,\n",
       "       2988.4014], dtype=float32)"
      ]
     },
     "execution_count": 55,
     "metadata": {},
     "output_type": "execute_result"
    }
   ],
   "source": [
    "M2.predict(denormalized=True)"
   ]
  },
  {
   "cell_type": "markdown",
   "metadata": {},
   "source": [
    "Now, assume that new data is available. Using this technique we go ahead and create a new model using only the new data. "
   ]
  },
  {
   "cell_type": "code",
   "execution_count": 56,
   "metadata": {
    "eid": "0f2eb7"
   },
   "outputs": [],
   "source": [
    "#\n",
    "#  Re-instantiate the model with the Model()\n",
    "#  class using the new_data variable instead\n",
    "#  of the old_data one. \n",
    "M3=Model(data=new_data,variable='close',predicted_period_size=7)\n"
   ]
  },
  {
   "cell_type": "code",
   "execution_count": 57,
   "metadata": {},
   "outputs": [
    {
     "data": {
      "text/plain": [
       "<keras.callbacks.History at 0x19ef5c9e8c8>"
      ]
     },
     "execution_count": 57,
     "metadata": {},
     "output_type": "execute_result"
    }
   ],
   "source": [
    "M3.build()\n",
    "M3.train()"
   ]
  },
  {
   "cell_type": "code",
   "execution_count": 58,
   "metadata": {},
   "outputs": [
    {
     "data": {
      "text/plain": [
       "array([2782.0972, 2941.466 , 2782.4417, 2656.0046, 2955.2495, 3202.3953,\n",
       "       2998.596 ], dtype=float32)"
      ]
     },
     "execution_count": 58,
     "metadata": {},
     "output_type": "execute_result"
    }
   ],
   "source": [
    "M3.predict(denormalized=True)"
   ]
  },
  {
   "cell_type": "markdown",
   "metadata": {},
   "source": [
    "This approach is very simple to implement and tends to work well. We will be using this to deploy our application."
   ]
  }
 ],
 "metadata": {
  "kernelspec": {
   "display_name": "Python 3",
   "language": "python",
   "name": "python3"
  },
  "language_info": {
   "codemirror_mode": {
    "name": "ipython",
    "version": 3
   },
   "file_extension": ".py",
   "mimetype": "text/x-python",
   "name": "python",
   "nbconvert_exporter": "python",
   "pygments_lexer": "ipython3",
   "version": "3.7.4"
  }
 },
 "nbformat": 4,
 "nbformat_minor": 2
}
