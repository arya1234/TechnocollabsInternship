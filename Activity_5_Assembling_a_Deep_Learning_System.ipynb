{
 "cells": [
  {
   "cell_type": "markdown",
   "metadata": {},
   "source": [
    "# Activity 5: Assembling a Deep Learning System\n",
    "In this activity, we will train the first version of our LSTM model using Bitcoin daily closing prices. These prices will be organized using the weeks of both 2016 and 2017. We do that because we are interested in predicting the prices of a week's worth of trading."
   ]
  },
  {
   "cell_type": "code",
   "execution_count": 1,
   "metadata": {},
   "outputs": [
    {
     "data": {
      "application/javascript": [
       "IPython.notebook.set_autosave_interval(5000)"
      ]
     },
     "metadata": {},
     "output_type": "display_data"
    },
    {
     "name": "stdout",
     "output_type": "stream",
     "text": [
      "Autosaving every 5 seconds\n"
     ]
    },
    {
     "name": "stderr",
     "output_type": "stream",
     "text": [
      "Using TensorFlow backend.\n"
     ]
    }
   ],
   "source": [
    "%autosave 5\n",
    "\n",
    "#  Import necessary libraries\n",
    "import numpy as np\n",
    "import pandas as pd\n",
    "import matplotlib.pyplot as plt\n",
    "%matplotlib inline\n",
    "plt.style.use('seaborn-white')\n",
    "\n",
    "from keras.models import load_model"
   ]
  },
  {
   "cell_type": "code",
   "execution_count": 2,
   "metadata": {},
   "outputs": [
    {
     "data": {
      "text/html": [
       "<div>\n",
       "<style scoped>\n",
       "    .dataframe tbody tr th:only-of-type {\n",
       "        vertical-align: middle;\n",
       "    }\n",
       "\n",
       "    .dataframe tbody tr th {\n",
       "        vertical-align: top;\n",
       "    }\n",
       "\n",
       "    .dataframe thead th {\n",
       "        text-align: right;\n",
       "    }\n",
       "</style>\n",
       "<table border=\"1\" class=\"dataframe\">\n",
       "  <thead>\n",
       "    <tr style=\"text-align: right;\">\n",
       "      <th></th>\n",
       "      <th>date</th>\n",
       "      <th>iso_week</th>\n",
       "      <th>close</th>\n",
       "      <th>volume</th>\n",
       "      <th>close_point_relative_normalization</th>\n",
       "      <th>volume_point_relative_normalization</th>\n",
       "    </tr>\n",
       "  </thead>\n",
       "  <tbody>\n",
       "    <tr>\n",
       "      <th>0</th>\n",
       "      <td>2016-01-01</td>\n",
       "      <td>2016-00</td>\n",
       "      <td>434.33</td>\n",
       "      <td>36278900.0</td>\n",
       "      <td>0.000000</td>\n",
       "      <td>0.000000</td>\n",
       "    </tr>\n",
       "    <tr>\n",
       "      <th>1</th>\n",
       "      <td>2016-01-02</td>\n",
       "      <td>2016-00</td>\n",
       "      <td>433.44</td>\n",
       "      <td>30096600.0</td>\n",
       "      <td>-0.002049</td>\n",
       "      <td>-0.170410</td>\n",
       "    </tr>\n",
       "    <tr>\n",
       "      <th>2</th>\n",
       "      <td>2016-01-03</td>\n",
       "      <td>2016-01</td>\n",
       "      <td>430.01</td>\n",
       "      <td>39633800.0</td>\n",
       "      <td>0.000000</td>\n",
       "      <td>0.000000</td>\n",
       "    </tr>\n",
       "    <tr>\n",
       "      <th>3</th>\n",
       "      <td>2016-01-04</td>\n",
       "      <td>2016-01</td>\n",
       "      <td>433.09</td>\n",
       "      <td>38477500.0</td>\n",
       "      <td>0.007163</td>\n",
       "      <td>-0.029175</td>\n",
       "    </tr>\n",
       "    <tr>\n",
       "      <th>4</th>\n",
       "      <td>2016-01-05</td>\n",
       "      <td>2016-01</td>\n",
       "      <td>431.96</td>\n",
       "      <td>34522600.0</td>\n",
       "      <td>0.004535</td>\n",
       "      <td>-0.128961</td>\n",
       "    </tr>\n",
       "  </tbody>\n",
       "</table>\n",
       "</div>"
      ],
      "text/plain": [
       "         date iso_week   close      volume  \\\n",
       "0  2016-01-01  2016-00  434.33  36278900.0   \n",
       "1  2016-01-02  2016-00  433.44  30096600.0   \n",
       "2  2016-01-03  2016-01  430.01  39633800.0   \n",
       "3  2016-01-04  2016-01  433.09  38477500.0   \n",
       "4  2016-01-05  2016-01  431.96  34522600.0   \n",
       "\n",
       "   close_point_relative_normalization  volume_point_relative_normalization  \n",
       "0                            0.000000                             0.000000  \n",
       "1                           -0.002049                            -0.170410  \n",
       "2                            0.000000                             0.000000  \n",
       "3                            0.007163                            -0.029175  \n",
       "4                            0.004535                            -0.128961  "
      ]
     },
     "execution_count": 2,
     "metadata": {},
     "output_type": "execute_result"
    }
   ],
   "source": [
    "#  Import training dataset\n",
    "train = pd.read_csv('train_dataset.csv')\n",
    "train.head()"
   ]
  },
  {
   "cell_type": "markdown",
   "metadata": {},
   "source": [
    "## Reshape Data"
   ]
  },
  {
   "cell_type": "code",
   "execution_count": 3,
   "metadata": {},
   "outputs": [],
   "source": [
    "def create_groups(data, group_size=7):\n",
    "    \"\"\"Create distinct groups from a continuous series.\n",
    "    \n",
    "    Parameters\n",
    "    ----------\n",
    "    data: np.array\n",
    "        Series of continious observations.\n",
    "\n",
    "    group_size: int, default 7\n",
    "        Determines how large the groups are. That is,\n",
    "        how many observations each group contains.\n",
    "    \n",
    "    Returns\n",
    "    -------\n",
    "    A Numpy array object. \n",
    "    \"\"\"\n",
    "    samples = []\n",
    "    for i in range(0, len(data), group_size):\n",
    "        sample = list(data[i:i + group_size])\n",
    "        if len(sample) == group_size:\n",
    "            samples.append(np.array(sample).reshape(1, group_size))\n",
    "    \n",
    "    return np.array(samples)"
   ]
  },
  {
   "cell_type": "code",
   "execution_count": 4,
   "metadata": {},
   "outputs": [
    {
     "data": {
      "text/plain": [
       "2"
      ]
     },
     "execution_count": 4,
     "metadata": {},
     "output_type": "execute_result"
    }
   ],
   "source": [
    "#  Find the remainder when the number of observations is divided by group size\n",
    "len(train) % 7"
   ]
  },
  {
   "cell_type": "code",
   "execution_count": 5,
   "metadata": {},
   "outputs": [
    {
     "name": "stdout",
     "output_type": "stream",
     "text": [
      "(77, 1, 7)\n"
     ]
    }
   ],
   "source": [
    "#  Create groups of 7 from our data.\n",
    "#  We drop the first two observations so that the\n",
    "#  number of total observations is divisible by the `group_size`.\n",
    "data = create_groups(train['close_point_relative_normalization'][2:].values)\n",
    "print(data.shape)"
   ]
  },
  {
   "cell_type": "code",
   "execution_count": 6,
   "metadata": {},
   "outputs": [
    {
     "name": "stdout",
     "output_type": "stream",
     "text": [
      "(1, 76, 7)\n",
      "(1, 7)\n"
     ]
    }
   ],
   "source": [
    "#  Reshape data into format expected by LSTM layer\n",
    "X_train = data[:-1, :].reshape(1, 76, 7)\n",
    "Y_validation = data[-1].reshape(1, 7)\n",
    "print(X_train.shape)\n",
    "print(Y_validation.shape)"
   ]
  },
  {
   "cell_type": "markdown",
   "metadata": {},
   "source": [
    "## Load Our Model"
   ]
  },
  {
   "cell_type": "code",
   "execution_count": 7,
   "metadata": {},
   "outputs": [
    {
     "name": "stdout",
     "output_type": "stream",
     "text": [
      "WARNING:tensorflow:From C:\\Users\\Arya\\Anaconda3\\lib\\site-packages\\keras\\backend\\tensorflow_backend.py:63: The name tf.get_default_graph is deprecated. Please use tf.compat.v1.get_default_graph instead.\n",
      "\n",
      "WARNING:tensorflow:From C:\\Users\\Arya\\Anaconda3\\lib\\site-packages\\keras\\backend\\tensorflow_backend.py:492: The name tf.placeholder is deprecated. Please use tf.compat.v1.placeholder instead.\n",
      "\n",
      "WARNING:tensorflow:From C:\\Users\\Arya\\Anaconda3\\lib\\site-packages\\keras\\backend\\tensorflow_backend.py:3630: The name tf.random_uniform is deprecated. Please use tf.random.uniform instead.\n",
      "\n",
      "WARNING:tensorflow:From C:\\Users\\Arya\\Anaconda3\\lib\\site-packages\\keras\\backend\\tensorflow_backend.py:1242: calling reduce_sum_v1 (from tensorflow.python.ops.math_ops) with keep_dims is deprecated and will be removed in a future version.\n",
      "Instructions for updating:\n",
      "keep_dims is deprecated, use keepdims instead\n",
      "WARNING:tensorflow:From C:\\Users\\Arya\\Anaconda3\\lib\\site-packages\\keras\\backend\\tensorflow_backend.py:158: The name tf.get_default_session is deprecated. Please use tf.compat.v1.get_default_session instead.\n",
      "\n",
      "WARNING:tensorflow:From C:\\Users\\Arya\\Anaconda3\\lib\\site-packages\\keras\\backend\\tensorflow_backend.py:163: The name tf.ConfigProto is deprecated. Please use tf.compat.v1.ConfigProto instead.\n",
      "\n",
      "WARNING:tensorflow:From C:\\Users\\Arya\\Anaconda3\\lib\\site-packages\\keras\\backend\\tensorflow_backend.py:168: The name tf.Session is deprecated. Please use tf.compat.v1.Session instead.\n",
      "\n",
      "WARNING:tensorflow:From C:\\Users\\Arya\\Anaconda3\\lib\\site-packages\\keras\\backend\\tensorflow_backend.py:172: The name tf.global_variables is deprecated. Please use tf.compat.v1.global_variables instead.\n",
      "\n",
      "WARNING:tensorflow:From C:\\Users\\Arya\\Anaconda3\\lib\\site-packages\\keras\\backend\\tensorflow_backend.py:181: The name tf.is_variable_initialized is deprecated. Please use tf.compat.v1.is_variable_initialized instead.\n",
      "\n",
      "WARNING:tensorflow:From C:\\Users\\Arya\\Anaconda3\\lib\\site-packages\\keras\\backend\\tensorflow_backend.py:188: The name tf.variables_initializer is deprecated. Please use tf.compat.v1.variables_initializer instead.\n",
      "\n",
      "WARNING:tensorflow:From C:\\Users\\Arya\\Anaconda3\\lib\\site-packages\\keras\\optimizers.py:711: The name tf.train.Optimizer is deprecated. Please use tf.compat.v1.train.Optimizer instead.\n",
      "\n"
     ]
    }
   ],
   "source": [
    "#  Load our previously trained model \n",
    "model = load_model('bitcoin_lstm_v0.h5')"
   ]
  },
  {
   "cell_type": "markdown",
   "metadata": {},
   "source": [
    "## Train model"
   ]
  },
  {
   "cell_type": "code",
   "execution_count": 8,
   "metadata": {
    "scrolled": true
   },
   "outputs": [
    {
     "name": "stdout",
     "output_type": "stream",
     "text": [
      "WARNING:tensorflow:From C:\\Users\\Arya\\Anaconda3\\lib\\site-packages\\tensorflow_core\\python\\ops\\math_grad.py:1424: where (from tensorflow.python.ops.array_ops) is deprecated and will be removed in a future version.\n",
      "Instructions for updating:\n",
      "Use tf.where in 2.0, which has the same broadcast rule as np.where\n",
      "WARNING:tensorflow:From C:\\Users\\Arya\\Anaconda3\\lib\\site-packages\\keras\\backend\\tensorflow_backend.py:675: calling Constant.__init__ (from tensorflow.python.ops.init_ops) with dtype is deprecated and will be removed in a future version.\n",
      "Instructions for updating:\n",
      "Call initializer instance with the dtype argument instead of passing it to the constructor\n",
      "WARNING:tensorflow:From C:\\Users\\Arya\\Anaconda3\\lib\\site-packages\\keras\\backend\\tensorflow_backend.py:953: The name tf.assign_add is deprecated. Please use tf.compat.v1.assign_add instead.\n",
      "\n",
      "WARNING:tensorflow:From C:\\Users\\Arya\\Anaconda3\\lib\\site-packages\\keras\\backend\\tensorflow_backend.py:940: The name tf.assign is deprecated. Please use tf.compat.v1.assign instead.\n",
      "\n",
      "Epoch 1/100\n",
      "1/1 [==============================] - 0s 352ms/step - loss: 0.0035\n",
      "Epoch 2/100\n",
      "1/1 [==============================] - 0s 37ms/step - loss: 0.0028\n",
      "Epoch 3/100\n",
      "1/1 [==============================] - 0s 32ms/step - loss: 0.0024\n",
      "Epoch 4/100\n",
      "1/1 [==============================] - 0s 35ms/step - loss: 0.0021\n",
      "Epoch 5/100\n",
      "1/1 [==============================] - 0s 28ms/step - loss: 0.0019\n",
      "Epoch 6/100\n",
      "1/1 [==============================] - 0s 25ms/step - loss: 0.0017\n",
      "Epoch 7/100\n",
      "1/1 [==============================] - 0s 26ms/step - loss: 0.0015\n",
      "Epoch 8/100\n",
      "1/1 [==============================] - 0s 24ms/step - loss: 0.0014\n",
      "Epoch 9/100\n",
      "1/1 [==============================] - 0s 27ms/step - loss: 0.0013\n",
      "Epoch 10/100\n",
      "1/1 [==============================] - 0s 25ms/step - loss: 0.0012\n",
      "Epoch 11/100\n",
      "1/1 [==============================] - 0s 27ms/step - loss: 0.0011\n",
      "Epoch 12/100\n",
      "1/1 [==============================] - 0s 26ms/step - loss: 9.9342e-04\n",
      "Epoch 13/100\n",
      "1/1 [==============================] - 0s 29ms/step - loss: 9.1274e-04\n",
      "Epoch 14/100\n",
      "1/1 [==============================] - 0s 34ms/step - loss: 8.3878e-04\n",
      "Epoch 15/100\n",
      "1/1 [==============================] - 0s 34ms/step - loss: 7.7078e-04\n",
      "Epoch 16/100\n",
      "1/1 [==============================] - 0s 33ms/step - loss: 7.0813e-04\n",
      "Epoch 17/100\n",
      "1/1 [==============================] - 0s 31ms/step - loss: 6.5033e-04\n",
      "Epoch 18/100\n",
      "1/1 [==============================] - 0s 32ms/step - loss: 5.9694e-04\n",
      "Epoch 19/100\n",
      "1/1 [==============================] - 0s 31ms/step - loss: 5.4760e-04\n",
      "Epoch 20/100\n",
      "1/1 [==============================] - 0s 32ms/step - loss: 5.0199e-04\n",
      "Epoch 21/100\n",
      "1/1 [==============================] - 0s 29ms/step - loss: 4.5983e-04\n",
      "Epoch 22/100\n",
      "1/1 [==============================] - 0s 29ms/step - loss: 4.2087e-04\n",
      "Epoch 23/100\n",
      "1/1 [==============================] - 0s 30ms/step - loss: 3.8486e-04\n",
      "Epoch 24/100\n",
      "1/1 [==============================] - 0s 26ms/step - loss: 3.5160e-04\n",
      "Epoch 25/100\n",
      "1/1 [==============================] - 0s 28ms/step - loss: 3.2089e-04\n",
      "Epoch 26/100\n",
      "1/1 [==============================] - 0s 27ms/step - loss: 2.9253e-04\n",
      "Epoch 27/100\n",
      "1/1 [==============================] - 0s 24ms/step - loss: 2.6635e-04\n",
      "Epoch 28/100\n",
      "1/1 [==============================] - 0s 26ms/step - loss: 2.4219e-04\n",
      "Epoch 29/100\n",
      "1/1 [==============================] - 0s 26ms/step - loss: 2.1988e-04\n",
      "Epoch 30/100\n",
      "1/1 [==============================] - 0s 27ms/step - loss: 1.9930e-04\n",
      "Epoch 31/100\n",
      "1/1 [==============================] - 0s 31ms/step - loss: 1.8030e-04\n",
      "Epoch 32/100\n",
      "1/1 [==============================] - 0s 30ms/step - loss: 1.6277e-04\n",
      "Epoch 33/100\n",
      "1/1 [==============================] - 0s 29ms/step - loss: 1.4660e-04\n",
      "Epoch 34/100\n",
      "1/1 [==============================] - 0s 30ms/step - loss: 1.3168e-04\n",
      "Epoch 35/100\n",
      "1/1 [==============================] - 0s 29ms/step - loss: 1.1793e-04\n",
      "Epoch 36/100\n",
      "1/1 [==============================] - 0s 28ms/step - loss: 1.0526e-04\n",
      "Epoch 37/100\n",
      "1/1 [==============================] - 0s 29ms/step - loss: 9.3619e-05\n",
      "Epoch 38/100\n",
      "1/1 [==============================] - 0s 29ms/step - loss: 8.2926e-05\n",
      "Epoch 39/100\n",
      "1/1 [==============================] - 0s 29ms/step - loss: 7.3128e-05\n",
      "Epoch 40/100\n",
      "1/1 [==============================] - 0s 29ms/step - loss: 6.4174e-05\n",
      "Epoch 41/100\n",
      "1/1 [==============================] - 0s 28ms/step - loss: 5.6017e-05\n",
      "Epoch 42/100\n",
      "1/1 [==============================] - 0s 28ms/step - loss: 4.8613e-05\n",
      "Epoch 43/100\n",
      "1/1 [==============================] - 0s 31ms/step - loss: 4.1923e-05\n",
      "Epoch 44/100\n",
      "1/1 [==============================] - 0s 29ms/step - loss: 3.5911e-05\n",
      "Epoch 45/100\n",
      "1/1 [==============================] - 0s 29ms/step - loss: 3.0579e-05\n",
      "Epoch 46/100\n",
      "1/1 [==============================] - 0s 28ms/step - loss: 2.6265e-05\n",
      "Epoch 47/100\n",
      "1/1 [==============================] - 0s 25ms/step - loss: 2.3382e-05\n",
      "Epoch 48/100\n",
      "1/1 [==============================] - 0s 27ms/step - loss: 2.0899e-05\n",
      "Epoch 49/100\n",
      "1/1 [==============================] - 0s 27ms/step - loss: 1.7604e-05\n",
      "Epoch 50/100\n",
      "1/1 [==============================] - 0s 26ms/step - loss: 1.4177e-05\n",
      "Epoch 51/100\n",
      "1/1 [==============================] - 0s 28ms/step - loss: 1.1185e-05\n",
      "Epoch 52/100\n",
      "1/1 [==============================] - 0s 26ms/step - loss: 8.8227e-06\n",
      "Epoch 53/100\n",
      "1/1 [==============================] - 0s 25ms/step - loss: 6.9888e-06\n",
      "Epoch 54/100\n",
      "1/1 [==============================] - 0s 26ms/step - loss: 5.5829e-06\n",
      "Epoch 55/100\n",
      "1/1 [==============================] - 0s 25ms/step - loss: 4.5479e-06\n",
      "Epoch 56/100\n",
      "1/1 [==============================] - 0s 27ms/step - loss: 3.8359e-06\n",
      "Epoch 57/100\n",
      "1/1 [==============================] - 0s 26ms/step - loss: 3.4374e-06\n",
      "Epoch 58/100\n",
      "1/1 [==============================] - 0s 26ms/step - loss: 3.2776e-06\n",
      "Epoch 59/100\n",
      "1/1 [==============================] - 0s 26ms/step - loss: 3.2815e-06\n",
      "Epoch 60/100\n",
      "1/1 [==============================] - 0s 28ms/step - loss: 3.3081e-06\n",
      "Epoch 61/100\n",
      "1/1 [==============================] - 0s 26ms/step - loss: 3.2534e-06\n",
      "Epoch 62/100\n",
      "1/1 [==============================] - 0s 28ms/step - loss: 3.1300e-06\n",
      "Epoch 63/100\n",
      "1/1 [==============================] - 0s 28ms/step - loss: 2.8973e-06\n",
      "Epoch 64/100\n",
      "1/1 [==============================] - 0s 25ms/step - loss: 2.6947e-06\n",
      "Epoch 65/100\n",
      "1/1 [==============================] - 0s 28ms/step - loss: 2.4663e-06\n",
      "Epoch 66/100\n",
      "1/1 [==============================] - 0s 26ms/step - loss: 2.3322e-06\n",
      "Epoch 67/100\n",
      "1/1 [==============================] - 0s 27ms/step - loss: 2.2086e-06\n",
      "Epoch 68/100\n",
      "1/1 [==============================] - 0s 26ms/step - loss: 2.1810e-06\n",
      "Epoch 69/100\n",
      "1/1 [==============================] - 0s 27ms/step - loss: 2.1640e-06\n",
      "Epoch 70/100\n",
      "1/1 [==============================] - 0s 26ms/step - loss: 2.2333e-06\n",
      "Epoch 71/100\n",
      "1/1 [==============================] - 0s 25ms/step - loss: 2.3165e-06\n",
      "Epoch 72/100\n",
      "1/1 [==============================] - 0s 26ms/step - loss: 2.5149e-06\n",
      "Epoch 73/100\n",
      "1/1 [==============================] - 0s 24ms/step - loss: 2.8257e-06\n",
      "Epoch 74/100\n",
      "1/1 [==============================] - 0s 25ms/step - loss: 3.4145e-06\n",
      "Epoch 75/100\n",
      "1/1 [==============================] - 0s 25ms/step - loss: 4.0759e-06\n",
      "Epoch 76/100\n",
      "1/1 [==============================] - 0s 25ms/step - loss: 4.2131e-06\n",
      "Epoch 77/100\n",
      "1/1 [==============================] - 0s 25ms/step - loss: 3.7306e-06\n",
      "Epoch 78/100\n",
      "1/1 [==============================] - 0s 25ms/step - loss: 3.0739e-06\n",
      "Epoch 79/100\n",
      "1/1 [==============================] - 0s 26ms/step - loss: 2.8444e-06\n",
      "Epoch 80/100\n",
      "1/1 [==============================] - 0s 24ms/step - loss: 3.2436e-06\n",
      "Epoch 81/100\n",
      "1/1 [==============================] - 0s 25ms/step - loss: 4.4382e-06\n",
      "Epoch 82/100\n",
      "1/1 [==============================] - 0s 27ms/step - loss: 5.7968e-06\n",
      "Epoch 83/100\n",
      "1/1 [==============================] - 0s 25ms/step - loss: 6.3736e-06\n",
      "Epoch 84/100\n",
      "1/1 [==============================] - 0s 27ms/step - loss: 5.4234e-06\n",
      "Epoch 85/100\n",
      "1/1 [==============================] - 0s 26ms/step - loss: 4.0763e-06\n",
      "Epoch 86/100\n",
      "1/1 [==============================] - 0s 25ms/step - loss: 2.8551e-06\n"
     ]
    },
    {
     "name": "stdout",
     "output_type": "stream",
     "text": [
      "Epoch 87/100\n",
      "1/1 [==============================] - 0s 30ms/step - loss: 2.1151e-06\n",
      "Epoch 88/100\n",
      "1/1 [==============================] - 0s 31ms/step - loss: 1.6725e-06\n",
      "Epoch 89/100\n",
      "1/1 [==============================] - 0s 31ms/step - loss: 1.4899e-06\n",
      "Epoch 90/100\n",
      "1/1 [==============================] - 0s 33ms/step - loss: 1.4654e-06\n",
      "Epoch 91/100\n",
      "1/1 [==============================] - 0s 32ms/step - loss: 1.6206e-06\n",
      "Epoch 92/100\n",
      "1/1 [==============================] - 0s 30ms/step - loss: 1.9423e-06\n",
      "Epoch 93/100\n",
      "1/1 [==============================] - 0s 30ms/step - loss: 2.5139e-06\n",
      "Epoch 94/100\n",
      "1/1 [==============================] - 0s 27ms/step - loss: 3.3128e-06\n",
      "Epoch 95/100\n",
      "1/1 [==============================] - 0s 27ms/step - loss: 4.3422e-06\n",
      "Epoch 96/100\n",
      "1/1 [==============================] - 0s 30ms/step - loss: 5.2231e-06\n",
      "Epoch 97/100\n",
      "1/1 [==============================] - 0s 29ms/step - loss: 5.6490e-06\n",
      "Epoch 98/100\n",
      "1/1 [==============================] - 0s 30ms/step - loss: 5.2254e-06\n",
      "Epoch 99/100\n",
      "1/1 [==============================] - 0s 27ms/step - loss: 4.3193e-06\n",
      "Epoch 100/100\n",
      "1/1 [==============================] - 0s 28ms/step - loss: 3.2750e-06\n",
      "Wall time: 3.66 s\n"
     ]
    }
   ],
   "source": [
    "%%time\n",
    "#  Train the model\n",
    "history = model.fit(\n",
    "    x=X_train, y=Y_validation,\n",
    "    batch_size=32, epochs=100)"
   ]
  },
  {
   "cell_type": "code",
   "execution_count": 9,
   "metadata": {},
   "outputs": [
    {
     "data": {
      "image/png": "[encoded data removed]",
      "text/plain": [
       "<Figure size 1008x288 with 1 Axes>"
      ]
     },
     "metadata": {},
     "output_type": "display_data"
    }
   ],
   "source": [
    "#  Plot loss function\n",
    "pd.Series(history.history['loss']).plot(figsize=(14, 4));"
   ]
  },
  {
   "cell_type": "markdown",
   "metadata": {},
   "source": [
    "## Make Predictions"
   ]
  },
  {
   "cell_type": "code",
   "execution_count": 10,
   "metadata": {},
   "outputs": [
    {
     "data": {
      "text/plain": [
       "array([0.0002383 , 0.01748237, 0.06536421, 0.05460871, 0.06371555,\n",
       "       0.0761587 , 0.02527578], dtype=float32)"
      ]
     },
     "execution_count": 10,
     "metadata": {},
     "output_type": "execute_result"
    }
   ],
   "source": [
    "#  Make predictions using X_train data\n",
    "predictions = model.predict(x=X_train)[0]\n",
    "predictions"
   ]
  },
  {
   "cell_type": "code",
   "execution_count": 11,
   "metadata": {},
   "outputs": [],
   "source": [
    "def denormalize(series, last_value):\n",
    "    \"\"\"Denormalize the values for a given series.\n",
    "    \n",
    "    This uses the last value available (i.e. the last\n",
    "    closing price of the week before our prediction)\n",
    "    as a reference for scaling the predicted results.\n",
    "    \"\"\"\n",
    "    result = last_value * (series + 1)\n",
    "    return result"
   ]
  },
  {
   "cell_type": "code",
   "execution_count": 12,
   "metadata": {},
   "outputs": [
    {
     "data": {
      "text/plain": [
       "array([2656.5127, 2702.311 , 2829.4795, 2800.914 , 2825.1008, 2858.1484,\n",
       "       2723.0095], dtype=float32)"
      ]
     },
     "execution_count": 12,
     "metadata": {},
     "output_type": "execute_result"
    }
   ],
   "source": [
    "#  Denormalize predictions\n",
    "last_weeks_value = train[train['date'] == train['date'][:-7].max()]['close'].values[0]\n",
    "\n",
    "denormalized_prediction = denormalize(predictions, last_weeks_value)\n",
    "denormalized_prediction"
   ]
  },
  {
   "cell_type": "code",
   "execution_count": 13,
   "metadata": {},
   "outputs": [
    {
     "data": {
      "image/png": "[encoded data removed]",
      "text/plain": [
       "<Figure size 1008x288 with 1 Axes>"
      ]
     },
     "metadata": {},
     "output_type": "display_data"
    }
   ],
   "source": [
    "#  Plot denormalized predictions against actual predictions\n",
    "plt.figure(figsize=(14, 4))\n",
    "\n",
    "plt.plot(train['close'][-7:].values, label='Actual')\n",
    "plt.plot(denormalized_prediction, color='#d35400', label='Predicted')\n",
    "\n",
    "plt.grid()\n",
    "plt.legend();"
   ]
  },
  {
   "cell_type": "code",
   "execution_count": 14,
   "metadata": {},
   "outputs": [
    {
     "data": {
      "image/png": "[encoded data removed]",
      "text/plain": [
       "<Figure size 1008x288 with 1 Axes>"
      ]
     },
     "metadata": {},
     "output_type": "display_data"
    }
   ],
   "source": [
    "prediction_plot = np.zeros(len(train)-2)\n",
    "prediction_plot[:] = np.nan\n",
    "prediction_plot[-7:] = denormalized_prediction\n",
    "\n",
    "plt.figure(figsize=(14, 4))\n",
    "plt.plot(train['close'][-30:].values, label='Actual')\n",
    "plt.plot(prediction_plot[-30:], color='#d35400', linestyle='--', label='Predicted')\n",
    "plt.axvline(30 - 7, color='r', linestyle='--', linewidth=1)\n",
    "\n",
    "plt.grid()\n",
    "plt.legend(loc='lower right');"
   ]
  },
  {
   "cell_type": "code",
   "execution_count": 15,
   "metadata": {
    "eid": "8ce0c2"
   },
   "outputs": [],
   "source": [
    "#  TASK:\n",
    "#  Save model to disk\n",
    "#\n",
    "model.save('bitcoin_lstm_v0_trained.h5')"
   ]
  },
  {
   "cell_type": "markdown",
   "metadata": {},
   "source": [
    "In this activity, we have assembled a complete deep learning system: from data to prediction. The model created in this activity need a number of improvements before it can be considered useful. However, it serves as a great starting point from which we will continuously improve."
   ]
  }
 ],
 "metadata": {
  "kernelspec": {
   "display_name": "Python 3",
   "language": "python",
   "name": "python3"
  },
  "language_info": {
   "codemirror_mode": {
    "name": "ipython",
    "version": 3
   },
   "file_extension": ".py",
   "mimetype": "text/x-python",
   "name": "python",
   "nbconvert_exporter": "python",
   "pygments_lexer": "ipython3",
   "version": "3.7.4"
  }
 },
 "nbformat": 4,
 "nbformat_minor": 2
}
